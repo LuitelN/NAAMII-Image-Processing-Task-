{
 "cells": [
  {
   "cell_type": "code",
   "execution_count": 3,
   "id": "18b07503",
   "metadata": {},
   "outputs": [],
   "source": [
    "def load_nifti(filepath):\n",
    "    return nib.load(filepath)"
   ]
  },
  {
   "cell_type": "code",
   "execution_count": 4,
   "id": "8de9a553-c198-42da-abff-5601e0552217",
   "metadata": {},
   "outputs": [
    {
     "name": "stdout",
     "output_type": "stream",
     "text": [
      "Shape: (512, 512, 216) Spacing: (np.float32(0.869141), np.float32(0.869141), np.float32(2.0))\n"
     ]
    }
   ],
   "source": [
    "ct_image = load_nifti(\"3702_left_knee.nii.gz\") \n",
    "ct_data = ct_image.get_fdata()\n",
    "spacing = ct_image.header.get_zooms()\n",
    "print(\"Shape:\", ct_data.shape, \"Spacing:\", spacing)"
   ]
  }
 ],
 "metadata": {
  "kernelspec": {
   "display_name": ".venv",
   "language": "python",
   "name": "python3"
  },
  "language_info": {
   "codemirror_mode": {
    "name": "ipython",
    "version": 3
   },
   "file_extension": ".py",
   "mimetype": "text/x-python",
   "name": "python",
   "nbconvert_exporter": "python",
   "pygments_lexer": "ipython3",
   "version": "3.13.2"
  }
 },
 "nbformat": 4,
 "nbformat_minor": 5
}
