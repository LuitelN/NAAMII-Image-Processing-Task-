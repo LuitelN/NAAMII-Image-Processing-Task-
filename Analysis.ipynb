{
 "cells": [
  {
   "cell_type": "markdown",
   "id": "3d47c2a9",
   "metadata": {},
   "source": [
    "Importing Libraries "
   ]
  },
  {
   "cell_type": "code",
   "execution_count": 23,
   "id": "0380aef8",
   "metadata": {},
   "outputs": [],
   "source": [
    "import numpy as np \n",
    "import pandas as pd\n",
    "import matplotlib.pyplot as plt \n",
    "import nibabel as nib\n",
    "from ipywidgets import interact \n",
    "from skimage import measure "
   ]
  },
  {
   "cell_type": "markdown",
   "id": "20d77dcf",
   "metadata": {},
   "source": [
    "Loading Data "
   ]
  },
  {
   "cell_type": "code",
   "execution_count": 2,
   "id": "dbfa2f7f",
   "metadata": {},
   "outputs": [
    {
     "name": "stdout",
     "output_type": "stream",
     "text": [
      "<class 'nibabel.nifti1.Nifti1Header'> object, endian='<'\n",
      "sizeof_hdr      : 348\n",
      "data_type       : np.bytes_(b'')\n",
      "db_name         : np.bytes_(b'')\n",
      "extents         : 0\n",
      "session_error   : 0\n",
      "regular         : np.bytes_(b'r')\n",
      "dim_info        : 0\n",
      "dim             : [  3 512 512 216   1   1   1   1]\n",
      "intent_p1       : 0.0\n",
      "intent_p2       : 0.0\n",
      "intent_p3       : 0.0\n",
      "intent_code     : none\n",
      "datatype        : int32\n",
      "bitpix          : 32\n",
      "slice_start     : 0\n",
      "pixdim          : [1.       0.869141 0.869141 2.       0.       0.       0.       0.      ]\n",
      "vox_offset      : 0.0\n",
      "scl_slope       : nan\n",
      "scl_inter       : nan\n",
      "slice_end       : 0\n",
      "slice_code      : unknown\n",
      "xyzt_units      : 2\n",
      "cal_max         : 0.0\n",
      "cal_min         : 0.0\n",
      "slice_duration  : 0.0\n",
      "toffset         : 0.0\n",
      "glmax           : 0\n",
      "glmin           : 0\n",
      "descrip         : np.bytes_(b'')\n",
      "aux_file        : np.bytes_(b'')\n",
      "qform_code      : scanner\n",
      "sform_code      : scanner\n",
      "quatern_b       : 0.0\n",
      "quatern_c       : 0.0\n",
      "quatern_d       : 1.0\n",
      "qoffset_x       : 222.5\n",
      "qoffset_y       : 222.5\n",
      "qoffset_z       : -900.5\n",
      "srow_x          : [ -0.869141   0.         0.       222.5     ]\n",
      "srow_y          : [  0.        -0.869141   0.       222.5     ]\n",
      "srow_z          : [   0.     0.     2.  -900.5]\n",
      "intent_name     : np.bytes_(b'')\n",
      "magic           : np.bytes_(b'n+1')\n"
     ]
    }
   ],
   "source": [
    "image_path = '3702_left_knee.nii.gz'\n",
    "image_obj = nib.load(image_path)\n",
    "image_data = image_obj.get_fdata()\n",
    "type(image_obj)\n",
    "print(image_obj.header)"
   ]
  },
  {
   "cell_type": "code",
   "execution_count": 3,
   "id": "2768b4ef",
   "metadata": {},
   "outputs": [
    {
     "data": {
      "text/plain": [
       "(512, 512, 216)"
      ]
     },
     "execution_count": 3,
     "metadata": {},
     "output_type": "execute_result"
    }
   ],
   "source": [
    "test_load = nib.load('3702_left_knee.nii.gz').get_fdata()\n",
    "test_load.shape #height, width, depth"
   ]
  },
  {
   "cell_type": "code",
   "execution_count": 5,
   "id": "c2260350",
   "metadata": {},
   "outputs": [
    {
     "name": "stdout",
     "output_type": "stream",
     "text": [
      "Bone mask shape: (512, 512, 216)\n"
     ]
    }
   ],
   "source": [
    "threshold = 130\n",
    "bone_mask = image_data > threshold\n",
    "print(\"Bone mask shape:\", bone_mask.shape)"
   ]
  },
  {
   "cell_type": "markdown",
   "id": "77bc9c53",
   "metadata": {},
   "source": [
    "Visualization"
   ]
  },
  {
   "cell_type": "code",
   "execution_count": 20,
   "id": "d113b0f9",
   "metadata": {},
   "outputs": [],
   "source": [
    "def show_slice_window(slice, level, window):\n",
    "   \"\"\"\n",
    "   Function to display an image slice\n",
    "   Input is a numpy 2D array\n",
    "   \"\"\"\n",
    "   max = level + window/2\n",
    "   min = level - window/2\n",
    "   slice = slice.clip(min,max)\n",
    "   plt.figure()\n",
    "   plt.imshow(slice.T, cmap=\"gray\", origin=\"lower\")\n",
    "   plt.savefig('L'+str(level)+'W'+str(window))"
   ]
  },
  {
   "cell_type": "markdown",
   "id": "7c7c494c",
   "metadata": {},
   "source": [
    "Contour Detection "
   ]
  },
  {
   "cell_type": "code",
   "execution_count": 26,
   "id": "bf809b5b",
   "metadata": {},
   "outputs": [],
   "source": [
    "def intensity_seg(ct_numpy, min=-1000, max=-300):\n",
    "   clipped = image_obj(ct_numpy, min, max)\n",
    "   return measure.find_contours(clipped, 0.95)"
   ]
  }
 ],
 "metadata": {
  "kernelspec": {
   "display_name": "Python (my-venv)",
   "language": "python",
   "name": "my-venv-kernel"
  },
  "language_info": {
   "codemirror_mode": {
    "name": "ipython",
    "version": 3
   },
   "file_extension": ".py",
   "mimetype": "text/x-python",
   "name": "python",
   "nbconvert_exporter": "python",
   "pygments_lexer": "ipython3",
   "version": "3.13.2"
  }
 },
 "nbformat": 4,
 "nbformat_minor": 5
}
